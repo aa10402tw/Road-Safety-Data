{
 "cells": [
  {
   "cell_type": "code",
   "execution_count": 5,
   "metadata": {},
   "outputs": [],
   "source": [
    "import glob \n",
    "import os"
   ]
  },
  {
   "cell_type": "code",
   "execution_count": 6,
   "metadata": {},
   "outputs": [],
   "source": [
    "for file_path in glob.glob(\"*.csv\"):\n",
    "    c = \"\"\n",
    "    y = 0\n",
    "    for s in ['Accidents', 'Casualties', 'Vehicles']:\n",
    "        if s in file_path:\n",
    "            c = s\n",
    "            break\n",
    "    for year in range(2000, 2020):\n",
    "        if str(year) in file_path:\n",
    "            y = year\n",
    "            break\n",
    "    dst = \"{}_{}.csv\".format(c, y)\n",
    "    if len(c) > 0 and y > 0:\n",
    "        os.rename(file_path, dst)"
   ]
  },
  {
   "cell_type": "code",
   "execution_count": null,
   "metadata": {},
   "outputs": [],
   "source": []
  }
 ],
 "metadata": {
  "kernelspec": {
   "display_name": "Python 3",
   "language": "python",
   "name": "python3"
  },
  "language_info": {
   "codemirror_mode": {
    "name": "ipython",
    "version": 3
   },
   "file_extension": ".py",
   "mimetype": "text/x-python",
   "name": "python",
   "nbconvert_exporter": "python",
   "pygments_lexer": "ipython3",
   "version": "3.8.3"
  }
 },
 "nbformat": 4,
 "nbformat_minor": 4
}
