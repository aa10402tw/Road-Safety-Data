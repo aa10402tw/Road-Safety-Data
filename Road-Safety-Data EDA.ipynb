{
 "cells": [
  {
   "cell_type": "markdown",
   "metadata": {
    "heading_collapsed": true
   },
   "source": [
    "# 1. Introduction"
   ]
  },
  {
   "cell_type": "markdown",
   "metadata": {
    "hidden": true
   },
   "source": [
    "This report is aimed to analyze the road safety data in UK (https://data.gov.uk/dataset/cb7ae6f0-4be6-4935-9277-47e5ce24a11f/road-safety-data), these files provide detailed road safety data about the circumstances of personal injury road accidents, the types of vehicles involved, and the consequential casualties. The statistics relate only to personal injury accidents on public roads that are reported to the police and subsequently recorded, using the STATS19 accident reporting form. We use the files span from 2010 to 2019.\n",
    "\n",
    "The purpose of the analysis including (1) summarize the main structure and characteristics of data with visual aids, and obtain interesting facts that are worth highlighting (2) Identity the relationship between variables and the casualties as well as the ratio of fatal casualties (3) provide some insight of how to predict at which condition the accident happen most, and which accident would be fatal."
   ]
  },
  {
   "cell_type": "markdown",
   "metadata": {
    "heading_collapsed": true
   },
   "source": [
    "# 2. File and data preprocessing\n"
   ]
  },
  {
   "cell_type": "markdown",
   "metadata": {
    "hidden": true
   },
   "source": [
    "There are three different types of files in the dataset. The first type is the Accident Circumstances, which contain the records of the accident with its information such as the date, the environment of the accident. The second type is Casualty, which contains the records of the accident with the information about the victim such as the age, sex of transportation method. Finally, the Vehicle contains the records of the accident with the information about the driver and vehicle that cause the accident. \n",
    "\n",
    "I merge the same file across different years, and rename some variable aliased by in different year (e.g., “Act_Index” and “Accident_Index”). Here I found some missing value, largely due to the record format is a little different in a different year (e.g., “Casualty_IMD_Decile” column appear in some years but not in others). Instead of removing the entire row which contains a missing value, I choose to leave them and remove them when the analysis is related to these columns."
   ]
  },
  {
   "cell_type": "code",
   "execution_count": 1,
   "metadata": {
    "hidden": true
   },
   "outputs": [],
   "source": [
    "import pandas as pd\n",
    "import numpy as np\n",
    "import glob\n",
    "\n",
    "import matplotlib.pyplot as plt\n",
    "from matplotlib import cm\n",
    "import seaborn as sns\n",
    "import warnings\n",
    "warnings.filterwarnings(\"ignore\")\n",
    "\n",
    "from utils import *"
   ]
  },
  {
   "cell_type": "code",
   "execution_count": 2,
   "metadata": {
    "code_folding": [
     0,
     9,
     20
    ],
    "hidden": true
   },
   "outputs": [],
   "source": [
    "def read_all_Accidents(start, end):\n",
    "    dfs = []\n",
    "    for y in range(start, end+1):\n",
    "        df = pd.read_csv(\"data/Accidents_{}.csv\".format(y))\n",
    "        if 'Acc_Index' in df.columns:\n",
    "            df = df.rename(columns={'Acc_Index':'Accident_Index'})\n",
    "        dfs.append(df)\n",
    "    return pd.concat(dfs)\n",
    "\n",
    "def read_all_Casualties(start, end):\n",
    "    dfs = []\n",
    "    for y in range(start, end+1):\n",
    "        df = pd.read_csv(\"data/Casualties_{}.csv\".format(y))\n",
    "        if 'Acc_Index' in df.columns:\n",
    "            df = df.rename(columns={'Acc_Index':'Accident_Index'})\n",
    "        if 'Casualty_Severity' in df.columns:\n",
    "            df = df.rename(columns={\"Casualty_Severity\":\"Accident_Severity\"})\n",
    "        dfs.append(df)\n",
    "    return pd.concat(dfs)\n",
    "\n",
    "def read_all_Vehicles(start, end):\n",
    "    dfs = []\n",
    "    usecols = ['Vehicle_Reference', 'Vehicle_Type',\n",
    "       'Towing_and_Articulation', 'Vehicle_Manoeuvre',\n",
    "       'Vehicle_Location-Restricted_Lane', 'Junction_Location',\n",
    "       'Skidding_and_Overturning', 'Hit_Object_in_Carriageway',\n",
    "       'Vehicle_Leaving_Carriageway', 'Hit_Object_off_Carriageway',\n",
    "       '1st_Point_of_Impact','Journey_Purpose_of_Driver', 'Sex_of_Driver', 'Age_Band_of_Driver',\n",
    "       'Engine_Capacity_(CC)', 'Propulsion_Code', 'Age_of_Vehicle',\n",
    "       'Driver_IMD_Decile', 'Driver_Home_Area_Type']\n",
    "    for y in range(start, end+1):\n",
    "        df_acc = pd.read_csv(\"data/Accidents_{}.csv\".format(y))\n",
    "        df_veh = pd.read_csv(\"data/Vehicles_{}.csv\".format(y))\n",
    "        if 'Acc_Index' in df_veh.columns:\n",
    "            df_veh['Accident_Index'] = df_veh['Acc_Index']\n",
    "        if 'Acc_Index' in df_acc.columns:\n",
    "            df_acc['Accident_Index'] = df_acc['Acc_Index']\n",
    "        df = pd.merge(df_acc[['Accident_Index', 'Accident_Severity']], df_veh[usecols+[\"Accident_Index\"]])\n",
    "        dfs.append(df)\n",
    "    return pd.concat(dfs)"
   ]
  },
  {
   "cell_type": "code",
   "execution_count": 3,
   "metadata": {
    "code_folding": [
     0
    ],
    "hidden": true
   },
   "outputs": [],
   "source": [
    "def remove_missing_value(df, cols):\n",
    "    df_out = df[cols]\n",
    "    n_missing_value = 0\n",
    "    total = len(df_out)\n",
    "    \n",
    "    # Remove NaN\n",
    "    n_missing_value += df_out.isnull().sum().sum()\n",
    "    df_out = df_out.dropna()\n",
    "    \n",
    "    # Remove -1\n",
    "    for col in cols:\n",
    "        n_missing_value += len(df_out[df_out[col]==-1])\n",
    "        df_out = df_out[df_out[col]!=-1]\n",
    "        \n",
    "    print(\"Number of missing value: {} ({:.2f}%)\".format(n_missing_value, n_missing_value/total*100))\n",
    "    return df_out"
   ]
  },
  {
   "cell_type": "code",
   "execution_count": 4,
   "metadata": {
    "hidden": true
   },
   "outputs": [],
   "source": [
    "start_year = 2010\n",
    "end_year = 2019"
   ]
  },
  {
   "cell_type": "code",
   "execution_count": 5,
   "metadata": {
    "hidden": true
   },
   "outputs": [
    {
     "data": {
      "text/html": [
       "<div>\n",
       "<style scoped>\n",
       "    .dataframe tbody tr th:only-of-type {\n",
       "        vertical-align: middle;\n",
       "    }\n",
       "\n",
       "    .dataframe tbody tr th {\n",
       "        vertical-align: top;\n",
       "    }\n",
       "\n",
       "    .dataframe thead th {\n",
       "        text-align: right;\n",
       "    }\n",
       "</style>\n",
       "<table border=\"1\" class=\"dataframe\">\n",
       "  <thead>\n",
       "    <tr style=\"text-align: right;\">\n",
       "      <th></th>\n",
       "      <th>Accident_Index</th>\n",
       "      <th>Location_Easting_OSGR</th>\n",
       "      <th>Location_Northing_OSGR</th>\n",
       "      <th>Longitude</th>\n",
       "      <th>Latitude</th>\n",
       "      <th>Police_Force</th>\n",
       "      <th>Accident_Severity</th>\n",
       "      <th>Number_of_Vehicles</th>\n",
       "      <th>Number_of_Casualties</th>\n",
       "      <th>Date</th>\n",
       "      <th>...</th>\n",
       "      <th>Pedestrian_Crossing-Human_Control</th>\n",
       "      <th>Pedestrian_Crossing-Physical_Facilities</th>\n",
       "      <th>Light_Conditions</th>\n",
       "      <th>Weather_Conditions</th>\n",
       "      <th>Road_Surface_Conditions</th>\n",
       "      <th>Special_Conditions_at_Site</th>\n",
       "      <th>Carriageway_Hazards</th>\n",
       "      <th>Urban_or_Rural_Area</th>\n",
       "      <th>Did_Police_Officer_Attend_Scene_of_Accident</th>\n",
       "      <th>LSOA_of_Accident_Location</th>\n",
       "    </tr>\n",
       "  </thead>\n",
       "  <tbody>\n",
       "    <tr>\n",
       "      <th>0</th>\n",
       "      <td>201001BS70003</td>\n",
       "      <td>527580.0</td>\n",
       "      <td>177730.0</td>\n",
       "      <td>-0.164002</td>\n",
       "      <td>51.484087</td>\n",
       "      <td>1</td>\n",
       "      <td>3</td>\n",
       "      <td>2</td>\n",
       "      <td>1</td>\n",
       "      <td>11/01/2010</td>\n",
       "      <td>...</td>\n",
       "      <td>0</td>\n",
       "      <td>0</td>\n",
       "      <td>1</td>\n",
       "      <td>8</td>\n",
       "      <td>2</td>\n",
       "      <td>0</td>\n",
       "      <td>0</td>\n",
       "      <td>1</td>\n",
       "      <td>1</td>\n",
       "      <td>E01002900</td>\n",
       "    </tr>\n",
       "    <tr>\n",
       "      <th>1</th>\n",
       "      <td>201001BS70004</td>\n",
       "      <td>525340.0</td>\n",
       "      <td>180470.0</td>\n",
       "      <td>-0.195273</td>\n",
       "      <td>51.509212</td>\n",
       "      <td>1</td>\n",
       "      <td>3</td>\n",
       "      <td>1</td>\n",
       "      <td>1</td>\n",
       "      <td>11/01/2010</td>\n",
       "      <td>...</td>\n",
       "      <td>0</td>\n",
       "      <td>5</td>\n",
       "      <td>4</td>\n",
       "      <td>2</td>\n",
       "      <td>2</td>\n",
       "      <td>0</td>\n",
       "      <td>0</td>\n",
       "      <td>1</td>\n",
       "      <td>1</td>\n",
       "      <td>E01002884</td>\n",
       "    </tr>\n",
       "    <tr>\n",
       "      <th>2</th>\n",
       "      <td>201001BS70006</td>\n",
       "      <td>524800.0</td>\n",
       "      <td>180300.0</td>\n",
       "      <td>-0.203110</td>\n",
       "      <td>51.507804</td>\n",
       "      <td>1</td>\n",
       "      <td>3</td>\n",
       "      <td>2</td>\n",
       "      <td>1</td>\n",
       "      <td>12/01/2010</td>\n",
       "      <td>...</td>\n",
       "      <td>0</td>\n",
       "      <td>5</td>\n",
       "      <td>1</td>\n",
       "      <td>1</td>\n",
       "      <td>1</td>\n",
       "      <td>0</td>\n",
       "      <td>0</td>\n",
       "      <td>1</td>\n",
       "      <td>1</td>\n",
       "      <td>E01002871</td>\n",
       "    </tr>\n",
       "    <tr>\n",
       "      <th>3</th>\n",
       "      <td>201001BS70007</td>\n",
       "      <td>525080.0</td>\n",
       "      <td>180920.0</td>\n",
       "      <td>-0.198858</td>\n",
       "      <td>51.513314</td>\n",
       "      <td>1</td>\n",
       "      <td>3</td>\n",
       "      <td>2</td>\n",
       "      <td>1</td>\n",
       "      <td>02/01/2010</td>\n",
       "      <td>...</td>\n",
       "      <td>0</td>\n",
       "      <td>0</td>\n",
       "      <td>4</td>\n",
       "      <td>1</td>\n",
       "      <td>1</td>\n",
       "      <td>0</td>\n",
       "      <td>0</td>\n",
       "      <td>1</td>\n",
       "      <td>1</td>\n",
       "      <td>E01002886</td>\n",
       "    </tr>\n",
       "    <tr>\n",
       "      <th>4</th>\n",
       "      <td>201001BS70008</td>\n",
       "      <td>526760.0</td>\n",
       "      <td>177740.0</td>\n",
       "      <td>-0.175802</td>\n",
       "      <td>51.484361</td>\n",
       "      <td>1</td>\n",
       "      <td>3</td>\n",
       "      <td>2</td>\n",
       "      <td>1</td>\n",
       "      <td>04/01/2010</td>\n",
       "      <td>...</td>\n",
       "      <td>0</td>\n",
       "      <td>0</td>\n",
       "      <td>4</td>\n",
       "      <td>1</td>\n",
       "      <td>2</td>\n",
       "      <td>0</td>\n",
       "      <td>0</td>\n",
       "      <td>1</td>\n",
       "      <td>1</td>\n",
       "      <td>E01002845</td>\n",
       "    </tr>\n",
       "  </tbody>\n",
       "</table>\n",
       "<p>5 rows × 32 columns</p>\n",
       "</div>"
      ],
      "text/plain": [
       "  Accident_Index  Location_Easting_OSGR  Location_Northing_OSGR  Longitude  \\\n",
       "0  201001BS70003               527580.0                177730.0  -0.164002   \n",
       "1  201001BS70004               525340.0                180470.0  -0.195273   \n",
       "2  201001BS70006               524800.0                180300.0  -0.203110   \n",
       "3  201001BS70007               525080.0                180920.0  -0.198858   \n",
       "4  201001BS70008               526760.0                177740.0  -0.175802   \n",
       "\n",
       "    Latitude  Police_Force  Accident_Severity  Number_of_Vehicles  \\\n",
       "0  51.484087             1                  3                   2   \n",
       "1  51.509212             1                  3                   1   \n",
       "2  51.507804             1                  3                   2   \n",
       "3  51.513314             1                  3                   2   \n",
       "4  51.484361             1                  3                   2   \n",
       "\n",
       "   Number_of_Casualties        Date  ...  Pedestrian_Crossing-Human_Control  \\\n",
       "0                     1  11/01/2010  ...                                  0   \n",
       "1                     1  11/01/2010  ...                                  0   \n",
       "2                     1  12/01/2010  ...                                  0   \n",
       "3                     1  02/01/2010  ...                                  0   \n",
       "4                     1  04/01/2010  ...                                  0   \n",
       "\n",
       "  Pedestrian_Crossing-Physical_Facilities  Light_Conditions  \\\n",
       "0                                       0                 1   \n",
       "1                                       5                 4   \n",
       "2                                       5                 1   \n",
       "3                                       0                 4   \n",
       "4                                       0                 4   \n",
       "\n",
       "  Weather_Conditions  Road_Surface_Conditions  Special_Conditions_at_Site  \\\n",
       "0                  8                        2                           0   \n",
       "1                  2                        2                           0   \n",
       "2                  1                        1                           0   \n",
       "3                  1                        1                           0   \n",
       "4                  1                        2                           0   \n",
       "\n",
       "   Carriageway_Hazards  Urban_or_Rural_Area  \\\n",
       "0                    0                    1   \n",
       "1                    0                    1   \n",
       "2                    0                    1   \n",
       "3                    0                    1   \n",
       "4                    0                    1   \n",
       "\n",
       "   Did_Police_Officer_Attend_Scene_of_Accident  LSOA_of_Accident_Location  \n",
       "0                                            1                  E01002900  \n",
       "1                                            1                  E01002884  \n",
       "2                                            1                  E01002871  \n",
       "3                                            1                  E01002886  \n",
       "4                                            1                  E01002845  \n",
       "\n",
       "[5 rows x 32 columns]"
      ]
     },
     "execution_count": 5,
     "metadata": {},
     "output_type": "execute_result"
    }
   ],
   "source": [
    "df_Accidents = read_all_Accidents(start_year, end_year)\n",
    "df_Accidents.head(5)"
   ]
  },
  {
   "cell_type": "code",
   "execution_count": 6,
   "metadata": {
    "hidden": true
   },
   "outputs": [
    {
     "data": {
      "text/html": [
       "<div>\n",
       "<style scoped>\n",
       "    .dataframe tbody tr th:only-of-type {\n",
       "        vertical-align: middle;\n",
       "    }\n",
       "\n",
       "    .dataframe tbody tr th {\n",
       "        vertical-align: top;\n",
       "    }\n",
       "\n",
       "    .dataframe thead th {\n",
       "        text-align: right;\n",
       "    }\n",
       "</style>\n",
       "<table border=\"1\" class=\"dataframe\">\n",
       "  <thead>\n",
       "    <tr style=\"text-align: right;\">\n",
       "      <th></th>\n",
       "      <th>Accident_Index</th>\n",
       "      <th>Vehicle_Reference</th>\n",
       "      <th>Casualty_Reference</th>\n",
       "      <th>Casualty_Class</th>\n",
       "      <th>Sex_of_Casualty</th>\n",
       "      <th>Age_Band_of_Casualty</th>\n",
       "      <th>Accident_Severity</th>\n",
       "      <th>Pedestrian_Location</th>\n",
       "      <th>Pedestrian_Movement</th>\n",
       "      <th>Car_Passenger</th>\n",
       "      <th>Bus_or_Coach_Passenger</th>\n",
       "      <th>Pedestrian_Road_Maintenance_Worker</th>\n",
       "      <th>Casualty_Type</th>\n",
       "      <th>Casualty_Home_Area_Type</th>\n",
       "      <th>Age_of_Casualty</th>\n",
       "      <th>Casualty_IMD_Decile</th>\n",
       "    </tr>\n",
       "  </thead>\n",
       "  <tbody>\n",
       "    <tr>\n",
       "      <th>0</th>\n",
       "      <td>201001BS70003</td>\n",
       "      <td>2</td>\n",
       "      <td>1</td>\n",
       "      <td>1</td>\n",
       "      <td>1</td>\n",
       "      <td>6</td>\n",
       "      <td>3</td>\n",
       "      <td>0</td>\n",
       "      <td>0</td>\n",
       "      <td>0</td>\n",
       "      <td>0</td>\n",
       "      <td>-1</td>\n",
       "      <td>1</td>\n",
       "      <td>1</td>\n",
       "      <td>NaN</td>\n",
       "      <td>NaN</td>\n",
       "    </tr>\n",
       "    <tr>\n",
       "      <th>1</th>\n",
       "      <td>201001BS70004</td>\n",
       "      <td>1</td>\n",
       "      <td>1</td>\n",
       "      <td>3</td>\n",
       "      <td>1</td>\n",
       "      <td>8</td>\n",
       "      <td>3</td>\n",
       "      <td>4</td>\n",
       "      <td>3</td>\n",
       "      <td>0</td>\n",
       "      <td>0</td>\n",
       "      <td>-1</td>\n",
       "      <td>0</td>\n",
       "      <td>1</td>\n",
       "      <td>NaN</td>\n",
       "      <td>NaN</td>\n",
       "    </tr>\n",
       "    <tr>\n",
       "      <th>2</th>\n",
       "      <td>201001BS70006</td>\n",
       "      <td>2</td>\n",
       "      <td>1</td>\n",
       "      <td>1</td>\n",
       "      <td>1</td>\n",
       "      <td>6</td>\n",
       "      <td>3</td>\n",
       "      <td>0</td>\n",
       "      <td>0</td>\n",
       "      <td>0</td>\n",
       "      <td>0</td>\n",
       "      <td>-1</td>\n",
       "      <td>1</td>\n",
       "      <td>1</td>\n",
       "      <td>NaN</td>\n",
       "      <td>NaN</td>\n",
       "    </tr>\n",
       "    <tr>\n",
       "      <th>3</th>\n",
       "      <td>201001BS70007</td>\n",
       "      <td>1</td>\n",
       "      <td>1</td>\n",
       "      <td>2</td>\n",
       "      <td>1</td>\n",
       "      <td>-1</td>\n",
       "      <td>3</td>\n",
       "      <td>0</td>\n",
       "      <td>0</td>\n",
       "      <td>1</td>\n",
       "      <td>0</td>\n",
       "      <td>-1</td>\n",
       "      <td>9</td>\n",
       "      <td>1</td>\n",
       "      <td>NaN</td>\n",
       "      <td>NaN</td>\n",
       "    </tr>\n",
       "    <tr>\n",
       "      <th>4</th>\n",
       "      <td>201001BS70008</td>\n",
       "      <td>2</td>\n",
       "      <td>1</td>\n",
       "      <td>2</td>\n",
       "      <td>1</td>\n",
       "      <td>6</td>\n",
       "      <td>3</td>\n",
       "      <td>0</td>\n",
       "      <td>0</td>\n",
       "      <td>0</td>\n",
       "      <td>0</td>\n",
       "      <td>-1</td>\n",
       "      <td>5</td>\n",
       "      <td>1</td>\n",
       "      <td>NaN</td>\n",
       "      <td>NaN</td>\n",
       "    </tr>\n",
       "  </tbody>\n",
       "</table>\n",
       "</div>"
      ],
      "text/plain": [
       "  Accident_Index  Vehicle_Reference  Casualty_Reference  Casualty_Class  \\\n",
       "0  201001BS70003                  2                   1               1   \n",
       "1  201001BS70004                  1                   1               3   \n",
       "2  201001BS70006                  2                   1               1   \n",
       "3  201001BS70007                  1                   1               2   \n",
       "4  201001BS70008                  2                   1               2   \n",
       "\n",
       "   Sex_of_Casualty  Age_Band_of_Casualty  Accident_Severity  \\\n",
       "0                1                     6                  3   \n",
       "1                1                     8                  3   \n",
       "2                1                     6                  3   \n",
       "3                1                    -1                  3   \n",
       "4                1                     6                  3   \n",
       "\n",
       "   Pedestrian_Location  Pedestrian_Movement  Car_Passenger  \\\n",
       "0                    0                    0              0   \n",
       "1                    4                    3              0   \n",
       "2                    0                    0              0   \n",
       "3                    0                    0              1   \n",
       "4                    0                    0              0   \n",
       "\n",
       "   Bus_or_Coach_Passenger  Pedestrian_Road_Maintenance_Worker  Casualty_Type  \\\n",
       "0                       0                                  -1              1   \n",
       "1                       0                                  -1              0   \n",
       "2                       0                                  -1              1   \n",
       "3                       0                                  -1              9   \n",
       "4                       0                                  -1              5   \n",
       "\n",
       "   Casualty_Home_Area_Type  Age_of_Casualty  Casualty_IMD_Decile  \n",
       "0                        1              NaN                  NaN  \n",
       "1                        1              NaN                  NaN  \n",
       "2                        1              NaN                  NaN  \n",
       "3                        1              NaN                  NaN  \n",
       "4                        1              NaN                  NaN  "
      ]
     },
     "execution_count": 6,
     "metadata": {},
     "output_type": "execute_result"
    }
   ],
   "source": [
    "df_Casualties = read_all_Casualties(start_year, end_year)\n",
    "df_Casualties.head(5)"
   ]
  },
  {
   "cell_type": "code",
   "execution_count": null,
   "metadata": {
    "hidden": true
   },
   "outputs": [],
   "source": [
    "df_Vehicles = read_all_Vehicles(start_year, end_year)\n",
    "df_Vehicles.head(5)"
   ]
  },
  {
   "cell_type": "markdown",
   "metadata": {},
   "source": [
    "# 3. EDA "
   ]
  },
  {
   "cell_type": "markdown",
   "metadata": {},
   "source": [
    "## 3.1 Accident Circumstances"
   ]
  },
  {
   "cell_type": "code",
   "execution_count": null,
   "metadata": {},
   "outputs": [],
   "source": [
    "df_Accidents.info()"
   ]
  },
  {
   "cell_type": "code",
   "execution_count": null,
   "metadata": {},
   "outputs": [],
   "source": [
    "df = remove_missing_value(df_Accidents, ['Accident_Index','Accident_Severity', 'Date', 'Day_of_Week', 'Time'])"
   ]
  },
  {
   "cell_type": "code",
   "execution_count": null,
   "metadata": {},
   "outputs": [],
   "source": [
    "fig, axs = plt.subplots(1,2, figsize=(20,5))\n",
    "\n",
    "# Pie chart, where the slices will be ordered and plotted counter-clockwise:\n",
    "ax = axs[0]\n",
    "ax.set_title('Accidient severity Distribution', fontsize=20, fontweight='bold')\n",
    "labels = [code2label('Casualty Severity', s) for s in range(3, 0, -1)]\n",
    "sizes = [(df['Accident_Severity']==s).sum() for s in range(3, 0, -1)]\n",
    "explode = (0.1, 0.1, 0.1) \n",
    "ax.pie(sizes, explode=explode, labels=labels, autopct='%1.1f%%', shadow=True, startangle=90)\n",
    "ax.axis('equal')  # Equal aspect ratio ensures that pie is drawn as a circle.\n",
    "\n",
    "# Plot number of accidient per year\n",
    "ax = axs[1]\n",
    "plt.sca(ax)\n",
    "plt.gca().yaxis.grid(True)\n",
    "df['Year'] = pd.to_numeric(df['Date'].str[-4:]).astype('int')\n",
    "year_cnts = df['Year'].value_counts().sort_index(ascending=True)\n",
    "ax.set_xticks([y for y in range(start_year, end_year+1)])\n",
    "ax.set_title('# Accidents per year', fontsize=20, fontweight='bold')\n",
    "ax.bar(year_cnts.index, year_cnts.values, color='lightblue', edgecolor='black', linewidth=0.6)\n",
    "ax.plot(year_cnts, color='orange',linewidth=3, linestyle='-')\n",
    "plt.show()"
   ]
  },
  {
   "cell_type": "markdown",
   "metadata": {},
   "source": [
    "First, we look at the trend of the number of accidents over the last few years, and we can find that the number of accidents has continued to decrease for the last 6 years (146k in 2014 down to 117k in 2019). In addition, the accident was a mostly slight accident (83.4%). "
   ]
  },
  {
   "cell_type": "code",
   "execution_count": null,
   "metadata": {},
   "outputs": [],
   "source": [
    "# Plot number of accidient of different Severity per year\n",
    "fig, axs = plt.subplots(1,3, figsize=(30,5))\n",
    "for i, s in enumerate(range(3, 1-1, -1)):\n",
    "    ax = axs[i]\n",
    "    plt.sca(ax)\n",
    "    plt.gca().yaxis.grid(True)\n",
    "    year_cnts = df[df['Accident_Severity']==s]['Year'].value_counts().sort_index(ascending=True)\n",
    "    ax.set_xticks([y for y in range(start_year, end_year+1)])\n",
    "    ax.set_title('# {} Accidents per year'.format(code2label('Casualty Severity', s)), fontsize=20, fontweight='bold')\n",
    "    ax.bar(year_cnts.index, year_cnts.values, color='lightblue', edgecolor='black', linewidth=0.6)\n",
    "    ax.plot(year_cnts, color='orange', linewidth=3, linestyle='-')\n",
    "plt.show()"
   ]
  },
  {
   "cell_type": "markdown",
   "metadata": {},
   "source": [
    "Although the total number of accidents has decreased a lot, the trend of different severity might be different. Therefore, we further view the trend for different accident severity, and we find that when the slight accident decreases a lot, the fatal accident does not decrease, and serious accident even increases in the few past years."
   ]
  },
  {
   "cell_type": "markdown",
   "metadata": {},
   "source": [
    "Next, we examine how the accident distributed through the weekday and the hour of the day. From the left figure, we can see that accidents happen most frequently on Friday, and least frequently on Saturday and Sunday. From the right figure, we can observe that the accident happened most frequently in 8-9 AM and 3-7 PM."
   ]
  },
  {
   "cell_type": "code",
   "execution_count": null,
   "metadata": {},
   "outputs": [],
   "source": [
    "fig, axs = plt.subplots(1, 2, figsize=(20, 5))\n",
    "df['Timestamp'] = pd.to_datetime(df['Date'] + \" \" +df['Time'], format='%d/%m/%Y %H:%M')\n",
    "\n",
    "# Plot day of week\n",
    "ax = axs[0]\n",
    "plt.sca(ax)\n",
    "plt.gca().yaxis.grid(True)\n",
    "\n",
    "date_counts = pd.DataFrame(df.set_index('Timestamp').resample('1d')['Accident_Index'].size().reset_index())\n",
    "date_counts.columns = ['Date', 'Count']\n",
    "dayname = date_counts['Date'].dt.day_name()\n",
    "weekday_averages = pd.DataFrame(date_counts.groupby(dayname)['Count'].mean().reset_index())\n",
    "weekday_averages.columns = ['Weekday', 'Average_Accidents']\n",
    "weekday_averages.set_index('Weekday', inplace=True)\n",
    "days = [code2label('Day_of_Week', d) for d in range(1, 7+1)]\n",
    "colors=['lightblue' for d in range(1, 7+1)]\n",
    "colors[-2] = 'deepskyblue'\n",
    "\n",
    "weekday_averages = weekday_averages.reindex(days)\n",
    "ax.bar(days, weekday_averages.values.reshape(-1), color=colors, edgecolor='black', linewidth=1.2)\n",
    "ax.set_title(\"Average accidents per weekday\", fontsize=20, fontweight='bold')\n",
    "ax.set(xlabel='Day of the Week', ylabel='# Accidents')\n",
    "\n",
    "# Plot time of day\n",
    "ax = axs[1]\n",
    "plt.sca(ax)\n",
    "plt.gca().yaxis.grid(True)\n",
    "\n",
    "per_hour_counts = pd.DataFrame(df.set_index('Timestamp').resample('1H')['Accident_Index'].size().reset_index())\n",
    "per_hour_counts.columns = ['Hour', 'Count']\n",
    "hours = per_hour_counts['Hour'].dt.hour\n",
    "\n",
    "hours_name = [i for i in range(0, 24)]\n",
    "hour_average = pd.DataFrame(per_hour_counts.groupby(hours)['Count'].mean().reset_index())\n",
    "hour_average.columns = ['Hour', 'Average_Accidents']\n",
    "hour_average.set_index('Hour', inplace=True)\n",
    "hour_average = hour_average.reindex(hours_name)\n",
    "colors=['lightblue' for h in hours]\n",
    "\n",
    "top5value = sorted(list(hour_average.values.reshape(-1)))[-5]\n",
    "for i, v in enumerate(list(hour_average.values.reshape(-1))):\n",
    "    if v >= top5value:\n",
    "        colors[i] = 'deepskyblue'\n",
    "\n",
    "ax.bar(hours_name, hour_average.values.reshape(-1), color=colors, edgecolor='black', linewidth=1.2, width=1.0, align=\"edge\")\n",
    "ax.set_title('Average accidents per hour', fontsize=20, fontweight='bold')\n",
    "ax.set(xlabel='Hour of the Day', ylabel='# Accidents')\n",
    "ax.set_xticks([0,6,8,9,12,15,19,23])\n",
    "plt.show()"
   ]
  },
  {
   "cell_type": "markdown",
   "metadata": {},
   "source": [
    "Next, we examine how the accident distributed through the weekday and the hour of the day. From the left figure, we can see that accidents happen most frequently on Friday, and least frequently on Saturday and Sunday. From the right figure, we can observe that the accident happened most frequently in 8-9 AM and 3-7 PM."
   ]
  },
  {
   "cell_type": "code",
   "execution_count": null,
   "metadata": {
    "code_folding": [
     0
    ]
   },
   "outputs": [],
   "source": [
    "def display_accidient_distribution_severity(df, col, title=None):\n",
    "    fig, axs = plt.subplots(1, 2, figsize=(20,5), gridspec_kw={'width_ratios': [1, 3]})\n",
    "    plt.subplots_adjust(wspace = 0.3)\n",
    "    title = col if title is None else title\n",
    "    \n",
    "    # Pie\n",
    "    ax = axs[0]             \n",
    "    cnts = df[col].value_counts()\n",
    "    ax.set_title('Accident Distribution: {}'.format(title), fontsize=20, fontweight='bold')\n",
    "    labels = list(cnts.index)\n",
    "    sizes = list(cnts.values)\n",
    "    explode = tuple([0 for i in range(len(cnts.index))])\n",
    "    ax.pie(sizes, explode=explode, labels=labels, autopct='%1.1f%%', shadow=True, startangle=90)\n",
    "    ax.axis('equal')  # Equal aspect ratio ensures that pie is drawn as a circle.\n",
    "                                                               \n",
    "    # severity_ratio\n",
    "    ax = axs[1]\n",
    "    total = len(df)\n",
    "    Severitys = [1, 2, 3]\n",
    "    Conds = sorted(list(set(df[col])))\n",
    "    data = dict()\n",
    "    for c in Conds:\n",
    "        data[str(c)] = [0 for _ in range(len(Severitys))]\n",
    "        cnts = df[df[col]==c]['Accident_Severity'].value_counts()\n",
    "        for (idx, val) in zip (cnts.index, cnts.values):\n",
    "            i = Severitys.index(idx)\n",
    "            data[str(c)][i] = val\n",
    "    \n",
    "    ax.set_title('Accident Severity: {}'.format(title), fontsize=20, fontweight='bold')\n",
    "    df = pd.DataFrame(data, index=Severitys)\n",
    "    df = df.apply(lambda x: x/x.sum(), axis=0)\n",
    "    df = df.T\n",
    "    df.columns = [code2label('Casualty Severity', s) for s in df.columns]\n",
    "    newcolors = cm.get_cmap('afmhot', 256)(np.linspace(0.25, 0.65, 128))\n",
    "    from matplotlib.colors import ListedColormap, LinearSegmentedColormap\n",
    "    newcmp = ListedColormap(newcolors)\n",
    "    df.plot(ax=ax, kind='barh', stacked=True, cmap=newcmp) \n",
    "                                                               \n",
    "    plt.show()"
   ]
  },
  {
   "cell_type": "code",
   "execution_count": null,
   "metadata": {
    "code_folding": [
     0
    ]
   },
   "outputs": [],
   "source": [
    "def catrgorize_Speed_limit(speed):\n",
    "    if speed <= 20:\n",
    "        return \"Slow (0-20MPH)\"\n",
    "    if speed <= 40:\n",
    "        return \"Mid (30-40MPH)\"\n",
    "    else:\n",
    "        return \"Fast (50-70MPH)\" \n",
    "\n",
    "df_speed = remove_missing_value(df_Accidents, ['Accident_Severity', 'Speed_limit'])\n",
    "df_speed['speed'] = df_speed['Speed_limit'].apply(catrgorize_Speed_limit)\n",
    "display_accidient_distribution_severity(df_speed, 'speed', \"Speed limit\")"
   ]
  },
  {
   "cell_type": "markdown",
   "metadata": {},
   "source": [
    "Here we analyze the relationship between the speed limit of the road and the accident. From the pie chart, we can see most accidents happened on the road with a speed limit of 30-40 MPH (71.6%). From the bar chart, we can further find that the accident that happened on the road with a higher speed limit would more possibly result in fatal casualty."
   ]
  },
  {
   "cell_type": "code",
   "execution_count": null,
   "metadata": {
    "code_folding": [
     0
    ]
   },
   "outputs": [],
   "source": [
    "def catrgorize_Light_condition(light):\n",
    "    if light == 1:\n",
    "        return \"Daylight\"\n",
    "    if light == 4:\n",
    "        return \"Dark with lights\"\n",
    "    if light == 5 or light == 6:\n",
    "        return \"Dark\"\n",
    "\n",
    "df_light = remove_missing_value(df_Accidents, ['Accident_Severity', 'Light_Conditions'])\n",
    "df_light = df_light[df_light['Light_Conditions'] != 7] # Unknown\n",
    "df_light['light'] = df_light['Light_Conditions'].apply(catrgorize_Light_condition)\n",
    "display_accidient_distribution_severity(df_light, 'light', \"Light Conditions\")"
   ]
  },
  {
   "cell_type": "markdown",
   "metadata": {},
   "source": [
    "We also examine the relation between light condition and accident. From the pie chart, we can see that most accidents happen in the day light environment (74.1%). However, when the accident happened in the dark without a lighting environment, it is more possibly result in fatal casualty."
   ]
  },
  {
   "cell_type": "markdown",
   "metadata": {},
   "source": [
    "## 3.2 Casualties"
   ]
  },
  {
   "cell_type": "code",
   "execution_count": null,
   "metadata": {},
   "outputs": [],
   "source": [
    "df_Casualties.info()"
   ]
  },
  {
   "cell_type": "code",
   "execution_count": null,
   "metadata": {},
   "outputs": [],
   "source": [
    "df = remove_missing_value(df_Casualties, ['Accident_Severity', 'Age_Band_of_Casualty', 'Sex_of_Casualty'])\n",
    "\n",
    "fig, axs = plt.subplots(1, 2, figsize=(20,5))\n",
    "\n",
    "# Age_Band_of_Casualty\n",
    "ax = axs[0]\n",
    "plt.sca(ax)\n",
    "plt.gca().yaxis.grid(True)\n",
    "df_age = df[df['Age_Band_of_Casualty'] != -1]\n",
    "names = TABLE['Age Band']['label']\n",
    "\n",
    "N, bins, patches = ax.hist(df_age['Age_Band_of_Casualty'].values, bins=[i for i in range(1,12+1)], color='lightblue', edgecolor='black', linewidth=1.2)\n",
    "ax.set_xticks([i+0.5 for i in range(1, 11+1)])\n",
    "ax.set_xticklabels(names, rotation=45, rotation_mode=\"anchor\", ha=\"right\")\n",
    "for n, thispatch in zip(N, patches):\n",
    "    if n == N.max(): \n",
    "        thispatch.set_facecolor('deepskyblue')\n",
    "ax.set_title('Age of Casualties\\n', fontsize=20, fontweight='bold')\n",
    "ax.set(xlabel='Age band', ylabel='# Accidents')\n",
    "\n",
    "## Sex and age\n",
    "ax = axs[1]\n",
    "plt.sca(ax)\n",
    "plt.gca().yaxis.grid(True)\n",
    "df_sex_age = df.groupby(['Age_Band_of_Casualty', 'Sex_of_Casualty']).size().reset_index()\n",
    "df_sex_age = df_sex_age[df_sex_age['Age_Band_of_Casualty'] != -1] \n",
    "df_sex_age = df_sex_age[df_sex_age['Sex_of_Casualty'] != -1] \n",
    "df_sex_age.columns = ['Age_Band_of_Casualty', 'Sex_of_Casualty', \"# Accidents\"]\n",
    "df_sex_age['Age_Band_of_Casualty'] = df_sex_age['Age_Band_of_Casualty'].map(\n",
    "    dict(zip(TABLE['Age Band']['code'], TABLE['Age Band']['label'])))\n",
    "df_sex_age['Sex_of_Casualty'] = df_sex_age['Sex_of_Casualty'].map(\n",
    "    dict(zip(TABLE['Sex']['code'], TABLE['Sex']['label'])))\n",
    "ax = sns.barplot(data=df_sex_age, x='Age_Band_of_Casualty', y='# Accidents', hue='Sex_of_Casualty', palette='coolwarm')\n",
    "ax.set_title('Sex and Age of Casualties\\n', fontsize=20, fontweight='bold')\n",
    "plt.show()"
   ]
  },
  {
   "cell_type": "markdown",
   "metadata": {},
   "source": [
    "For casualties of accidents, we first look at how the casualties were distributed through different age band and sex. From the left figure, we can observe that accidents happen most with the young and middle people (especially 26-35), and least happened with the child or older people. From the right figure, we can further find that the male casualties are more than female casualties in every age band."
   ]
  },
  {
   "cell_type": "code",
   "execution_count": null,
   "metadata": {
    "code_folding": []
   },
   "outputs": [],
   "source": [
    "# Casualty Type\n",
    "def catrgorize_victim(victim):\n",
    "    if victim in [0]:\n",
    "        return \"Pedestrian\"\n",
    "    elif victim in [1]:\n",
    "        return \"Cyclist\"\n",
    "    elif victim in [2, 3,4,5,22,23,97]:\n",
    "        return \"On Scooter or\\nMotorcycle\"\n",
    "    elif victim in [8,9,10,11,17,18,19,20,21,90,98]:\n",
    "        return \"In Car\"\n",
    "    else:\n",
    "        return \"Other\"\n",
    "\n",
    "df_victim = remove_missing_value(df_Casualties, ['Accident_Severity', 'Casualty_Type'])\n",
    "df_victim = df_victim[df_victim['Casualty_Type']!=16]# Remove horse\n",
    "df_victim['victim'] = df_victim['Casualty_Type'].apply(catrgorize_victim)\n",
    "display_accidient_distribution_severity(df_victim, 'victim', \"Victim Type\")"
   ]
  },
  {
   "cell_type": "markdown",
   "metadata": {},
   "source": [
    "Next, we examine the type of transportation method for the victim, and we can find that most casualties are in the vehicle (66.4%), while other types nearly percentage (around 10%). However, when an accident happened, the casualties in the car were least likely to result in serious damage or death than the casualties not in the car.  "
   ]
  },
  {
   "cell_type": "markdown",
   "metadata": {},
   "source": [
    "## 3.3 Vehicles"
   ]
  },
  {
   "cell_type": "code",
   "execution_count": null,
   "metadata": {},
   "outputs": [],
   "source": [
    "df_Vehicles.info()"
   ]
  },
  {
   "cell_type": "code",
   "execution_count": null,
   "metadata": {},
   "outputs": [],
   "source": [
    "df = remove_missing_value(df_Vehicles, ['Accident_Severity', 'Age_Band_of_Driver', 'Sex_of_Driver'])\n",
    "print(\"# Missing Value for Accident_Severity\", (df_Vehicles['Accident_Severity']==-1).sum())\n",
    "print(\"# Missing Value for Age_Band_of_Driver\",(df_Vehicles['Age_Band_of_Driver']==-1).sum())\n",
    "print(\"# Missing Value for Sex_of_Driver\",(df_Vehicles['Sex_of_Driver']==-1).sum())\n",
    "fig, axs = plt.subplots(1, 2, figsize=(20,5))\n",
    "\n",
    "# Age_Band_of_Driver\n",
    "ax = axs[0]\n",
    "plt.sca(ax)\n",
    "plt.gca().yaxis.grid(True)\n",
    "df_age = df[df['Age_Band_of_Driver'] != -1]\n",
    "names = TABLE['Age Band']['label']\n",
    "\n",
    "N, bins, patches = ax.hist(df_age['Age_Band_of_Driver'].values, bins=[i for i in range(1,12+1)], color='lightblue', edgecolor='black', linewidth=1.2)\n",
    "ax.set_xticks([i+0.5 for i in range(1, 11+1)])\n",
    "ax.set_xticklabels(names, rotation=45, rotation_mode=\"anchor\", ha=\"right\")\n",
    "for n, thispatch in zip(N, patches):\n",
    "    if n == N.max(): \n",
    "        thispatch.set_facecolor('deepskyblue')\n",
    "ax.set_title('Age of Driver\\n', fontsize=20, fontweight='bold')\n",
    "ax.set(xlabel='Age band', ylabel='# Accidents')\n",
    "plt.gca().yaxis.grid(True)\n",
    "\n",
    "## Sex and age\n",
    "ax = axs[1]\n",
    "plt.sca(ax)\n",
    "plt.gca().yaxis.grid(True)\n",
    "\n",
    "df_sex_age = df.groupby(['Age_Band_of_Driver', 'Sex_of_Driver']).size().reset_index()\n",
    "df_sex_age = df_sex_age[df_sex_age['Age_Band_of_Driver'] != -1] \n",
    "df_sex_age = df_sex_age[df_sex_age['Sex_of_Driver'] != -1] \n",
    "df_sex_age.columns = ['Age_Band_of_Driver', 'Sex_of_Driver', \"Count\"]\n",
    "df_sex_age['Age_Band_of_Driver'] = df_sex_age['Age_Band_of_Driver'].map(\n",
    "    dict(zip(TABLE['Age Band']['code'], TABLE['Age Band']['label'])))\n",
    "df_sex_age['Sex_of_Driver'] = df_sex_age['Sex_of_Driver'].map(\n",
    "    dict(zip(TABLE['Sex']['code'], TABLE['Sex']['label'])))\n",
    "ax = sns.barplot(data=df_sex_age, x='Age_Band_of_Driver', y='Count', hue='Sex_of_Driver', palette='coolwarm')\n",
    "ax.yaxis.grid()\n",
    "ax.set_title('Sex and Age of Driver\\n', fontsize=20, fontweight='bold')\n",
    "plt.gca().yaxis.grid(True)\n",
    "plt.show()"
   ]
  },
  {
   "cell_type": "markdown",
   "metadata": {},
   "source": [
    "For drivers that cause an accident, we first look at how the casualties were distributed through different age band and sex. From the left figure, we can observe that accidents happen most with the young and middle people (especially 26-35), and least happened with the child or older people. From the right figure, we can further find that the male casualties are more than female casualties in every age band. The result here is quite similar to the result of Age and sex of casualty, except for that there are fewer drivers whose age is under 15.  "
   ]
  },
  {
   "cell_type": "code",
   "execution_count": null,
   "metadata": {
    "code_folding": []
   },
   "outputs": [],
   "source": [
    "def catrgorize_driver_vehicle(driver_vehicle):\n",
    "    if driver_vehicle in [1]:\n",
    "        return \"Pedal cycle\"\n",
    "    elif driver_vehicle in [2, 3,4,5,22,23,97]:\n",
    "        return \"Scooter or\\nMotorcycle\"\n",
    "    elif driver_vehicle in [8,9,10,11,17,18,19,20,21,90,98]:\n",
    "        return \"Car\"\n",
    "    else:\n",
    "        return \"Other\"\n",
    "\n",
    "df_driver = remove_missing_value(df_Vehicles, ['Accident_Severity', 'Vehicle_Type'])\n",
    "df_driver = df_driver[df_driver['Vehicle_Type']!=16]# Remove horse\n",
    "df_driver['driver'] = df_driver['Vehicle_Type'].apply(catrgorize_driver_vehicle)\n",
    "display_accidient_distribution_severity(df_driver, 'driver', \"Vehicle of Driver\")    "
   ]
  },
  {
   "cell_type": "code",
   "execution_count": null,
   "metadata": {
    "code_folding": [
     0
    ]
   },
   "outputs": [],
   "source": [
    "def catrgorize_vehicle_age(age):\n",
    "    if age <= 5:\n",
    "        return \"0-5\"\n",
    "    elif age <= 10:\n",
    "        return \"6-10\"\n",
    "    elif age <= 15:\n",
    "        return \"11-15\"\n",
    "    else:\n",
    "        return \">15\"\n",
    "\n",
    "df_age = remove_missing_value(df_Vehicles, ['Accident_Severity', 'Age_of_Vehicle'])\n",
    "df_age['age'] = df_age['Age_of_Vehicle'].apply(catrgorize_vehicle_age)\n",
    "display_accidient_distribution_severity(df_age, 'age', \"Vehicle Age\")     "
   ]
  },
  {
   "cell_type": "markdown",
   "metadata": {},
   "source": [
    "# 4. Conclusion"
   ]
  },
  {
   "cell_type": "markdown",
   "metadata": {},
   "source": [
    "This report analyzes the road safety data in the UK, and provide main characteristics with visual aids from three different aspects of an accident, including the circumstances of accidents, the victims of accidents, and the vehicles and drivers that cause the accidents.\n",
    "\n",
    "In addition, many interesting facts were discovered during the analysis, such as when accident most happen with casualties in a car, the accident happened in a car are less likely to result in serious or fatal casualties than those casualties not in a car. \n",
    "\n",
    "I believe this report is helpful to understand the characteristics and structure of the dataset, and it can be used to further research, such as analysis of the hotspot of accidents, or building a predictive model to predict whether a casualty is fatal. \n"
   ]
  },
  {
   "cell_type": "markdown",
   "metadata": {},
   "source": [
    "# 5. Preliminary thoughts of how to build a predictive model"
   ]
  },
  {
   "cell_type": "markdown",
   "metadata": {},
   "source": [
    "## 5.1 Data cleaning\n",
    "remove invalid or missing data or replace those data with mean, median, or the majority of valid data."
   ]
  },
  {
   "cell_type": "markdown",
   "metadata": {},
   "source": [
    "## 5.2 Spliting Dataset\n",
    "split the dataset into training, validation, and test set with a ratio of 80%, 10%, and 10%. Meanwhile, I would keep the ratio of positive and negative data is equal across the different set.\n"
   ]
  },
  {
   "cell_type": "markdown",
   "metadata": {},
   "source": [
    "## 5.3 Undersampling or oversampling of training set\n",
    "I would consider using the ENN (Edited Nearest Neighbor) approach for undersampling \n",
    "I would first try the classical approach called SMOTE (Synthetic Minority Oversampling Technique), and try some new approach based on GAN (Generative Adversarial Network)."
   ]
  },
  {
   "cell_type": "markdown",
   "metadata": {},
   "source": [
    "## 5.4 Build classifier \n",
    "I would start from random forest and AdaBoost classifier\n",
    "then turning and selecting the best model to have the highest f1-score on the validation set.\n",
    "Finally, I would test the performance of that model on the test set."
   ]
  },
  {
   "cell_type": "code",
   "execution_count": null,
   "metadata": {},
   "outputs": [],
   "source": []
  }
 ],
 "metadata": {
  "kernelspec": {
   "display_name": "Python 3",
   "language": "python",
   "name": "python3"
  },
  "language_info": {
   "codemirror_mode": {
    "name": "ipython",
    "version": 3
   },
   "file_extension": ".py",
   "mimetype": "text/x-python",
   "name": "python",
   "nbconvert_exporter": "python",
   "pygments_lexer": "ipython3",
   "version": "3.8.3"
  }
 },
 "nbformat": 4,
 "nbformat_minor": 4
}
